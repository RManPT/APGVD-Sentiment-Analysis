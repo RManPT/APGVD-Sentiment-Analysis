{
 "cells": [
  {
   "cell_type": "markdown",
   "metadata": {
    "_cell_guid": "36fd62ef-127b-ce2f-dfc5-b21bd37b3dc7"
   },
   "source": [
    "<a id=\"topo\"></a>\n",
    "___\n",
    "<img src=\"../_images/logo_mei.jpg\" alt=\"Mestrado em Internet das Coisas @ IPT\" width=\"200\"/>\n",
    "<div class=\"alert alert-block alert-success\" align=\"center\">\n",
    "<h1>Análise e Processamento de Grandes Volumes de Dados</h1>\n",
    "<h3>Sentiment analysis - 3ª parte</div>\n",
    "<center><h5>Criado por: Bruno Bernardo / David Carrilho / Rui Rodrigues</h5></center>\n",
    "___\n",
    "\n",
    "[<img src=\"../_images/download.jpg\" alt=\"Mestrado em Internet das Coisas @ IPT\" width=\"50\"/>](Sentiment.ipynb)\n",
    "___\n",
    "\n",
    "**Crédito para Peter Nagy February 2017** \n",
    "https://github.com/nagypeterjob"
   ]
  },
  {
   "cell_type": "markdown",
   "metadata": {},
   "source": [
    "[Análise sentimental supervisionada (Naive Bayes)](#super)<br>\n",
    "[Preparação](#preparacao)<br>\n",
    "[Importação](#import)<br>\n",
    "[Dataset](#dataset)<br>\n",
    "[Importação dos dados](#import2)<br>\n",
    "[Separação de dados em treino e teste](#split)<br>\n",
    "[Visualização dos dados de treino](#visual)<br>\n",
    "[Preparação subset de treino](#treino)<br>\n",
    "[Extração de características](#features)<br>\n",
    "[Classificação](#classificacao)<br>\n",
    "[Conclusão](#conclusao)"
   ]
  },
  {
   "cell_type": "markdown",
   "metadata": {},
   "source": [
    "<p>&nbsp;</p>\n",
    "<p>&nbsp;</p>\n",
    "<p>&nbsp;</p>\n",
    "\n",
    "<a id=\"super\"></a>\n",
    "# Análise sentimental supervisionada (Naive Bayes)\n",
    "<p>&nbsp;</p>\n",
    "\n",
    "Depois de termos demonstrado como obter análise de sentimento sobre ficheiros e <i>feeds</i> usando uma API vamos agora demonstrar como usar directamente o [NLTK](#http://www.nltk.org/) (<i>Natural Language Tool Kit</i>) para treinar classificadores estatísticos e posteriormente usá-los para fazer a análise sentimental. Para isto usamos datasets recolhidos de [CrowdFlower](#https://www.crowdflower.com/data-for-everyone/). Foram escolhidos dois datasets com apenas 3 classes mas este método permite usa mais classes.\n",
    "\n",
    "Neste primeiro exemplo vamos usar o classificador NB. Este classificador assume que as características dos vectores são independentes. Quando esta assumpção se verifica este é um classificador de alta precisão. É o que vamos avaliar.\n"
   ]
  },
  {
   "cell_type": "markdown",
   "metadata": {},
   "source": [
    "------"
   ]
  },
  {
   "cell_type": "markdown",
   "metadata": {},
   "source": [
    "<a id=\"preparacao\"></a>\n",
    "## Preparação\n",
    "\n",
    "Se correr o notebook no seu próprio server Jupyter deverá instalar dependências.\n",
    "\n",
    "Na \"Anaconda Comand Prompt\" (na pasta onde tens os notebooks):\n",
    "\n",
    "    pip install numpy\n",
    "\n",
    "    pip install pandas\n",
    "\n",
    "    pip install nltk\n",
    "\n",
    "    pip install wordcloud\n",
    "    \n",
    "    \n",
    "<div class=\"alert alert-block alert-info\">NOTA: Se não tiveres premissões para instalar, executa o Prompt como Administrador. Se estiveres da drive C: e os notebooks estiverem na D:, assim que abres o Prompt deves escrever D: para mudar de drive.</div>\n",
    "\n",
    "<div class=\"alert alert-block alert-danger\">Dependendo da vossa versão do Python poderão ter dificuldade em instalar as dependências do Wordcloud. Se for esse o caso façam o download da versão adequada [daqui](#https://www.lfd.uci.edu/%7Egohlke/pythonlibs/#wordcloud) e executem:\n",
    "    pip install XXXXX sendo XXXXX o nome do ficheiro descarregado.</div>    \n",
    "\n",
    "No nosso caso vamos usar um contentor dinâmico que permite a partilha de notebooks com edição, [mybinder.org](https://mybinder.org).\n",
    "\n"
   ]
  },
  {
   "cell_type": "markdown",
   "metadata": {},
   "source": [
    "<a id=\"import\"></a>\n",
    "### A importação dos módulos necessários"
   ]
  },
  {
   "cell_type": "code",
   "execution_count": null,
   "metadata": {
    "_cell_guid": "374fc92f-ce1c-740d-4ab5-786c9197e189",
    "scrolled": true
   },
   "outputs": [],
   "source": [
    "# algebra linear\n",
    "import numpy as np \n",
    "# processamento de dados e I/O ficheiros \n",
    "import pandas as pd \n",
    "# função que separa os dados em uma percentagem para treino e outra para teste\n",
    "from sklearn.model_selection import train_test_split \n",
    "# Natural language tool kit\n",
    "import nltk\n",
    "# biblioteca de stopwords\n",
    "from nltk.corpus import stopwords\n",
    "# biblioteca de machine learning\n",
    "from nltk.classify import SklearnClassifier\n",
    "# gerador de nuvens de palavras\n",
    "from wordcloud import WordCloud,STOPWORDS\n",
    "# manipulação de imagens\n",
    "import matplotlib.pyplot as plt\n",
    "%matplotlib inline\n",
    "# biblioteca de verificação de ficheiros\n",
    "from subprocess import check_output"
   ]
  },
  {
   "cell_type": "markdown",
   "metadata": {
    "_cell_guid": "7cf1dbb0-d445-de60-6737-7272df1e5978"
   },
   "source": [
    "<a id=\"dataset\"></a>\n",
    "### O Dataset\n",
    "\n",
    "Preparámos dois datasets:\n",
    "\n",
    "    * Judge emotions about nuclear energy from Twitter (2013)\n",
    "\n",
    "    É uma colecção de tweets relacionados com energia nuclear juntos com a classificação feita por utilizadores do sentimento relacionado com o tweet. As categorias disponíveis são: \"Positivo\", \"Neutro\" e \"Negativo\". O dataset contém ainda informação sobre o nível de confianção numa categorização correcta.\n",
    "    \n",
    "    * First GOP debate sentiment analysis (2015)\n",
    "\n",
    "    É uma colecção de dezenas de milhares de tweets sobre o debate dos candidatos presidenciais republicanos dos EUA. Aos utilizadores foi pedido que categorizassem a nível de sentimento, a relevância, candidato a que se refere e nível de confiança na categorização correcta.\n",
    "\n",
    "Foram escolhidos estes dois precisamente por usarem apenas 3 classes, o que se adequa à nossa demonstração. "
   ]
  },
  {
   "cell_type": "markdown",
   "metadata": {},
   "source": [
    "<a id=\"import2\"></a>\n",
    "### Importação dos dados\n",
    "\n",
    "Os nossos <i>dataset</i> são CSVs que contém diversa informação, como o nosso objectivo é fazer análise sentimental precisamos apenas das colunas com o texto do tweet e a classificação atribuida por utilizadores. "
   ]
  },
  {
   "cell_type": "code",
   "execution_count": null,
   "metadata": {
    "_cell_guid": "ed8f4233-db8e-15c6-0568-c89cb6ba9d53",
    "collapsed": true
   },
   "outputs": [],
   "source": [
    "data = pd.read_csv('../_datasets/GOP_REL_ONLY.csv', encoding = \"ISO-8859-1\")\n",
    "#data = pd.read_csv('../_datasets/1377191648_sentiment_nuclear_power.csv', encoding = \"ISO-8859-1\")\n",
    "# Keeping only the neccessary columns\n",
    "data = data[['text','sentiment']]"
   ]
  },
  {
   "cell_type": "markdown",
   "metadata": {
    "_cell_guid": "23c5e618-fc4a-97da-8be6-cd98815bc4c7"
   },
   "source": [
    "<a id=\"split\"></a>\n",
    "### Separação de dados em treino e teste\n",
    "\n",
    "Primeiro que tudo vamos dividir uma percentagem (10%) do dataset para treino e usar o restante para  testes. Para a fase de treino optamos por abdicar da categoria \"Neutral\" pois o que pretendemos é fazer a diferenciação entre positivos e negativos.\n"
   ]
  },
  {
   "cell_type": "code",
   "execution_count": null,
   "metadata": {
    "_cell_guid": "8e60c228-ff93-e823-6d39-34c1b0fe3c3c",
    "collapsed": true
   },
   "outputs": [],
   "source": [
    "# Divisão dos dados entre treino e teste\n",
    "train, test = train_test_split(data,test_size = 0.1)\n",
    "# Exclusão do treino dos tweets de categoria neutra\n",
    "train = train[train.sentiment != \"Neutral\"]"
   ]
  },
  {
   "cell_type": "markdown",
   "metadata": {
    "_cell_guid": "7598f1b2-7cad-3db3-746f-6f44e2dc7fa5"
   },
   "source": [
    "<a id=\"visual\"></a>\n",
    "### Visualização dos dados de treino\n",
    "\n",
    "Achámos que seria interessante visualizar quais as palavras mais marcantes de cada categoria, então separámos no subset de treino os tweets positivos dos negativos."
   ]
  },
  {
   "cell_type": "code",
   "execution_count": null,
   "metadata": {
    "collapsed": true
   },
   "outputs": [],
   "source": [
    "train_pos = train[ train['sentiment'] == 'Positive']\n",
    "train_pos = train_pos['text']\n",
    "train_neg = train[ train['sentiment'] == 'Negative']\n",
    "train_neg = train_neg['text']"
   ]
  },
  {
   "cell_type": "markdown",
   "metadata": {},
   "source": [
    "#### Preparação da cloud\n",
    "\n",
    "Como só pretendemos usar as palavras vamos fazer uma cópia de cada categoria e limpar os <i>tweets</i> de links, nomes de utilizadores, <i>hashtags</i> e indicações de <i>retweet</i>. Posteriormente temos de remover as <i>stopwords</i> (definidas pela <i>WordCloud</i>) e preparar a <i>WordCloud</i>. Juntámos todas estas instruções num único método para poder ser reutilizado para ambas as categorias: "
   ]
  },
  {
   "cell_type": "code",
   "execution_count": null,
   "metadata": {
    "collapsed": true
   },
   "outputs": [],
   "source": [
    "def wordcloud_draw(data, color = 'black'):\n",
    "    words = ' '.join(data)\n",
    "    cleaned_word = \" \".join([word for word in words.split()\n",
    "                            if 'http' not in word\n",
    "                                and not word.startswith('@')\n",
    "                                and not word.startswith('#')\n",
    "                                and word != 'RT'\n",
    "                            ])\n",
    "    wordcloud = WordCloud(stopwords=STOPWORDS,\n",
    "                      background_color=color,\n",
    "                      width=2500,\n",
    "                      height=2000\n",
    "                     ).generate(cleaned_word)\n",
    "    plt.figure(1,figsize=(13, 13))\n",
    "    plt.imshow(wordcloud)\n",
    "    plt.axis('off')\n",
    "    plt.show()"
   ]
  },
  {
   "cell_type": "markdown",
   "metadata": {},
   "source": [
    "#### WordCloud de palavras positivas"
   ]
  },
  {
   "cell_type": "code",
   "execution_count": null,
   "metadata": {},
   "outputs": [],
   "source": [
    "print(\"Palavras positivas\")\n",
    "wordcloud_draw(train_pos,'white')"
   ]
  },
  {
   "cell_type": "markdown",
   "metadata": {},
   "source": [
    "#### WordCloud de palavras negativas"
   ]
  },
  {
   "cell_type": "code",
   "execution_count": null,
   "metadata": {
    "_cell_guid": "516a52cc-dd69-3b5f-7487-1467a701f1e2"
   },
   "outputs": [],
   "source": [
    "print(\"Palavras negativas\")\n",
    "wordcloud_draw(train_neg)"
   ]
  },
  {
   "cell_type": "markdown",
   "metadata": {},
   "source": [
    "#### Reflexão sobre o significado\n",
    "\n",
    "Será interessante procurar entender pela <i>WordCloud</i>, particularmente pelas palavras mais frequentes (as de tamanho de fonte maior) entender a inclinação dos utilizadores sobre o assunto. Como terão sido usadas estas palavras nos seus <i>tweets</i>? Que entendimento poderemos retirar desta disposição da informação?"
   ]
  },
  {
   "cell_type": "markdown",
   "metadata": {
    "_cell_guid": "42366853-8e0e-0c92-a60d-29109c10c697"
   },
   "source": [
    "<a id=\"treino\"></a>\n",
    "### Preparação subset de treino\n",
    "\n",
    "Agora vamos fazer efectivar no <i>subset</i> de treino a limpeza que tinhas efectuado para a <i>WordCloud</i> mas desta vez usando as <i>stopwords</i> do NLTK.\n",
    "\n",
    "\n",
    "<div class=\"alert alert-block alert-success\">**Stop Word:** Stop Words são palavras sem impacto significativo nas pesquisas. Por serem muito comuns retornam uma enorme quantidade de resultados desnecessários e por isso são removidas. (ex: the, for, this etc.)</div>"
   ]
  },
  {
   "cell_type": "markdown",
   "metadata": {},
   "source": [
    "#### Descarregar as stopwords adequadas\n",
    "\n",
    "Sendo que o nosso <i>dataset</i> está em inglês devemos efectuar o <i>download</i> das <i>stop words</i> adequadas:"
   ]
  },
  {
   "cell_type": "code",
   "execution_count": null,
   "metadata": {},
   "outputs": [],
   "source": [
    "tweets = []\n",
    "# download e descompactação do \"corpus\" de stop words\n",
    "nltk.download(\"stopwords\")\n",
    "# selecção da língua\n",
    "stopwords_set = set(stopwords.words(\"english\"))"
   ]
  },
  {
   "cell_type": "markdown",
   "metadata": {},
   "source": [
    "#### Iterar no set de treino e fazer a limpeza"
   ]
  },
  {
   "cell_type": "code",
   "execution_count": null,
   "metadata": {
    "collapsed": true
   },
   "outputs": [],
   "source": [
    "for index, row in train.iterrows():\n",
    "    words_filtered = [e.lower() for e in row.text.split() if len(e) >= 3]\n",
    "    words_cleaned = [word for word in words_filtered\n",
    "        if 'http' not in word\n",
    "        and not word.startswith('@')\n",
    "        and not word.startswith('#')\n",
    "        and word != 'RT']\n",
    "    words_without_stopwords = [word for word in words_cleaned if not word in stopwords_set]\n",
    "    tweets.append((words_cleaned,row.sentiment))"
   ]
  },
  {
   "cell_type": "markdown",
   "metadata": {},
   "source": [
    "#### Obtenção dos vectores limpos"
   ]
  },
  {
   "cell_type": "code",
   "execution_count": null,
   "metadata": {
    "_cell_guid": "b66995b2-8d9f-8c9e-6b0a-273dad7e75c1",
    "collapsed": true
   },
   "outputs": [],
   "source": [
    "test_pos = test[ test['sentiment'] == 'Positive']\n",
    "test_pos = test_pos['text']\n",
    "test_neg = test[ test['sentiment'] == 'Negative']\n",
    "test_neg = test_neg['text']"
   ]
  },
  {
   "cell_type": "markdown",
   "metadata": {
    "_cell_guid": "fb9264bc-029f-85f3-d6e1-44b9d130d801"
   },
   "source": [
    "<a id=\"features\"></a>\n",
    "## Extração de características (features)\n",
    "\n",
    "Seguidamente criamos o chamado modelo <i>[Bag of Words](#https://en.wikipedia.org/wiki/Bag-of-words_model)</i> através da tokenização e a contagem da frequência das palavras. Basicamente este modelo é uma representação numérica do nosso texto e baseado nessa representação podem ser retiradas muitas informaçãos. É deste <i>Bag of words</i> que vão ser gerados os vectores que alimenentam a BM (<i>Bayes machine</i>). Para isto vamos usar mais uma vez o NLTK para calcular as frequências e definir as chaves."
   ]
  },
  {
   "cell_type": "markdown",
   "metadata": {},
   "source": [
    "#### Função para obter as palavras em cada tweet"
   ]
  },
  {
   "cell_type": "code",
   "execution_count": null,
   "metadata": {
    "collapsed": true
   },
   "outputs": [],
   "source": [
    "# Função para obter as palavras em cada tweet\n",
    "def get_words_in_tweets(tweets):\n",
    "    all = []\n",
    "    for (words, sentiment) in tweets:\n",
    "        all.extend(words)\n",
    "    return all"
   ]
  },
  {
   "cell_type": "markdown",
   "metadata": {},
   "source": [
    "#### Função para obter as features de cada conjunto colecção de palavras"
   ]
  },
  {
   "cell_type": "code",
   "execution_count": null,
   "metadata": {
    "collapsed": true
   },
   "outputs": [],
   "source": [
    "# Função para obter as features de cada conjunto colecção de palavras\n",
    "def get_word_features(wordlist):\n",
    "    wordlist = nltk.FreqDist(wordlist)\n",
    "    features = wordlist.keys()\n",
    "    return features"
   ]
  },
  {
   "cell_type": "markdown",
   "metadata": {},
   "source": [
    "#### Por fim, obtenção das features"
   ]
  },
  {
   "cell_type": "code",
   "execution_count": null,
   "metadata": {
    "_cell_guid": "253a2784-7de9-c1d4-293c-43b036627930",
    "collapsed": true
   },
   "outputs": [],
   "source": [
    "# Obtenção das features da colecção de palavras encontradas nos tweets\n",
    "w_features = get_word_features(get_words_in_tweets(tweets))\n",
    "\n",
    "def extract_features(document):\n",
    "    document_words = set(document)\n",
    "    features = {}\n",
    "    for word in w_features:\n",
    "        features['containts(%s)' % word] = (word in document_words)\n",
    "    return features"
   ]
  },
  {
   "cell_type": "markdown",
   "metadata": {
    "_cell_guid": "d4202bb1-ef8a-312c-e5a9-27bb282411eb"
   },
   "source": [
    "#### WordCloud das features\n",
    "\n",
    "Por curiosidade vamos fazer o <i>plot</i> de uma <i>wordcloud</i> das features do nosso <i>dataset</i>, ou seja as palavras mais frequentemente distrubuidas."
   ]
  },
  {
   "cell_type": "code",
   "execution_count": null,
   "metadata": {
    "_cell_guid": "1c8ac3c2-22ed-d267-d04c-931d9e2f9080"
   },
   "outputs": [],
   "source": [
    "print(\"Features\")\n",
    "wordcloud_draw(w_features)"
   ]
  },
  {
   "cell_type": "markdown",
   "metadata": {},
   "source": [
    "<a id=\"classificacao\"></a>\n",
    "## Classificação\n",
    "\n",
    "Usando o classificador NaiveBayes vamos finalmente classificar as <i>features</i>."
   ]
  },
  {
   "cell_type": "markdown",
   "metadata": {},
   "source": [
    "#### Efectivação do treino"
   ]
  },
  {
   "cell_type": "code",
   "execution_count": null,
   "metadata": {
    "_cell_guid": "9b89e1a0-fb0b-3f6f-6577-5d20ecadcf58",
    "collapsed": true
   },
   "outputs": [],
   "source": [
    "# Treino do classificador NaiveBayes\n",
    "training_set = nltk.classify.apply_features(extract_features,tweets)\n",
    "classifier = nltk.NaiveBayesClassifier.train(training_set)"
   ]
  },
  {
   "cell_type": "markdown",
   "metadata": {
    "_cell_guid": "6dc107eb-d6b9-9260-23c4-83fad0d4c795"
   },
   "source": [
    "#### Teste e avaliação de resultados"
   ]
  },
  {
   "cell_type": "code",
   "execution_count": null,
   "metadata": {
    "_cell_guid": "0db3c2eb-3a31-6d29-f9fa-7bf5cc899af1"
   },
   "outputs": [],
   "source": [
    "neg_cnt = 0\n",
    "pos_cnt = 0\n",
    "for obj in test_neg: \n",
    "    res =  classifier.classify(extract_features(obj.split()))\n",
    "    if(res == 'Negative'): \n",
    "        neg_cnt = neg_cnt + 1\n",
    "for obj in test_pos: \n",
    "    res =  classifier.classify(extract_features(obj.split()))\n",
    "    if(res == 'Positive'): \n",
    "        pos_cnt = pos_cnt + 1\n",
    "        \n",
    "print('[Negative]: %s/%s (acc: %0.2f%%)'  % (neg_cnt,len(test_neg),neg_cnt/len(test_neg)*100))        \n",
    "print('[Positive]: %s/%s (acc: %0.2f%%)'  % (pos_cnt,len(test_pos),pos_cnt/len(test_pos)*100))    "
   ]
  },
  {
   "cell_type": "markdown",
   "metadata": {
    "_cell_guid": "1f29d2ef-48fa-0343-ff7a-58f5f2ac43ba"
   },
   "source": [
    "<a id=\"conclusao\"></a>\n",
    "## Conclusão\n",
    "\n",
    "O objectivo desde notebook era demonstrar como ir mais \"directo à fonte\", escolhendo um método de classificação, fazendo o seu treino e posterior teste.\n",
    "\n",
    "Aparentemente, com os datasets disponíveis, funciona bem para tweets de conotação negativa. As dificuldades acontecem quando à ambíguidade, frases irónicas ou sarcásticas, o que seria de esperar pois logo no início referimos que o NB é mais eficaz quando à clara distinção de classes.\n",
    "\n",
    "Vamos procurar concluir se outros métodos de classificação poderão obter melhores resultados. No próximo exercício vamos usar uma rede neural recorrente, com memória, a LSTM, para compararmos os resultados.\n",
    "\n",
    "Outra nota de destaque é que o classificador NB é de extrema lentidão."
   ]
  },
  {
   "cell_type": "markdown",
   "metadata": {
    "_cell_guid": "feda97ab-f4fe-24a5-34a9-a46926f77fe7",
    "collapsed": true
   },
   "source": [
    "[<div align=\"right\" class=\"alert alert-block\"><img src=\"../_images/top.png\" width=\"20\"></div>](#topo)"
   ]
  }
 ],
 "metadata": {
  "_change_revision": 126,
  "_is_fork": false,
  "kernelspec": {
   "display_name": "Python 3",
   "language": "python",
   "name": "python3"
  },
  "language_info": {
   "codemirror_mode": {
    "name": "ipython",
    "version": 3
   },
   "file_extension": ".py",
   "mimetype": "text/x-python",
   "name": "python",
   "nbconvert_exporter": "python",
   "pygments_lexer": "ipython3",
   "version": "3.6.3"
  }
 },
 "nbformat": 4,
 "nbformat_minor": 1
}
