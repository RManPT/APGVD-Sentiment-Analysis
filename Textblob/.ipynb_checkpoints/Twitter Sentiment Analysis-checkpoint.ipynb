{
 "cells": [
  {
   "cell_type": "markdown",
   "metadata": {},
   "source": [
    "<a id=\"topo\"></a>\n",
    "___\n",
    "<img src=\"../_images/logo_mei.jpg\" alt=\"Mestrado em Internet das Coisas @ IPT\" width=\"200\"/>\n",
    "<div class=\"alert alert-block alert-success\" align=\"center\">\n",
    "<h1>Análise e Processamento de Grandes Volumes de Dados</h1>\n",
    "<h3>Sentiment analysis - 2ª parte</div>\n",
    "<center><h5>Criado por: Bruno Bernardo / David Carrilho / Rui Rodrigues</h5></center>\n",
    "___\n",
    "\n",
    "[<img src=\"../_images/download.jpg\" alt=\"Mestrado em Internet das Coisas @ IPT\" width=\"50\"/>](Twitter Sentiment Analysis.ipynb)\n",
    "___"
   ]
  },
  {
   "cell_type": "markdown",
   "metadata": {},
   "source": [
    "[Análise sentimental no Twitter](#twitter)<br>\n",
    "[Preparação](#preparacao)<br>\n",
    "[Importação](#import)<br>\n",
    "[Autenticação](#auth)<br>\n",
    "[Parâmetros](#def)<br>\n",
    "[Pesquisa](#search)<br>\n",
    "[Resultados individuais](#resi)<br>\n",
    "[Sentimento generalizado](#rest)"
   ]
  },
  {
   "cell_type": "markdown",
   "metadata": {},
   "source": [
    "<p>&nbsp;</p>\n",
    "<p>&nbsp;</p>\n",
    "<p>&nbsp;</p>\n",
    "\n",
    "<a id=\"twitter\"></a>\n",
    "# Análise sentimental no Twitter\n",
    "<p>&nbsp;</p>\n",
    "\n",
    "As redes sociais são a maior fonte de informação e categorização. Os utentes/matéria prima destas redes tanto expressam as suas opiniões como categorizam, pela emoção que sentem, as opiniões de outros sobre uma infinidade de assuntos.\n",
    "\n",
    "Faz todo o sentido explorar esta fonte infindável de informação.\n",
    "\n",
    "Neste exercício vamos demonstrar como aceder a feeds do Twitter e deles extrair informação sentimental.\n"
   ]
  },
  {
   "cell_type": "markdown",
   "metadata": {},
   "source": [
    "------"
   ]
  },
  {
   "cell_type": "markdown",
   "metadata": {},
   "source": [
    "<a id=\"preparacao\"></a>\n",
    "## Preparação\n",
    "\n",
    "Se correr o notebook no seu próprio server Jupyter deverá instalar dependências.\n",
    "\n",
    "Na \"Anaconda Comand Prompt\" (na pasta onde tens os notebooks):\n",
    "\n",
    "    pip install tweepy\n",
    "\n",
    "    pip install textblob\n",
    "\n",
    "<div class=\"alert alert-block alert-info\">NOTA: Se não tiveres premissões para instalar, executa o Prompt como Administrador. Se estiveres da drive C: e os notebooks estiverem na D:, assim que abres o Prompt deves escrever D: para mudar de drive.</div>\n",
    "\n",
    "No nosso caso vamos usar um contentor dinâmico que permite a partilha de notebooks com edição, [mybinder.org](https://mybinder.org)."
   ]
  },
  {
   "cell_type": "markdown",
   "metadata": {},
   "source": [
    "<p>&nbsp;</p>"
   ]
  },
  {
   "cell_type": "markdown",
   "metadata": {},
   "source": [
    "<a id=\"import\"></a>\n",
    "### A importação dos módulos necessários"
   ]
  },
  {
   "cell_type": "code",
   "execution_count": null,
   "metadata": {
    "collapsed": true
   },
   "outputs": [],
   "source": [
    "import tweepy\n",
    "from textblob import TextBlob"
   ]
  },
  {
   "cell_type": "code",
   "execution_count": null,
   "metadata": {},
   "outputs": [],
   "source": [
    "import matplotlib.pyplot as plt\n",
    "import matplotlib.image as mpimg"
   ]
  },
  {
   "cell_type": "markdown",
   "metadata": {},
   "source": [
    "<a id=\"auth\"></a>\n",
    "### Autenticação à API do Twitter"
   ]
  },
  {
   "cell_type": "code",
   "execution_count": null,
   "metadata": {
    "collapsed": true
   },
   "outputs": [],
   "source": [
    "consumer_key= 'nEiGfOnHr3hcIgQ0k08kG19q2'\n",
    "consumer_secret= 'tnbh1kfHYFff3PS0c6AjXlPqYvL2lJG8wdej5HZvpqvDH6Ybfr'\n",
    "\n",
    "access_token='776640421-r3L3A1YaiMGlJrqlPE08wCInKIIvzN2WoxsyLMZx'\n",
    "access_token_secret='vDNBDiLyLeu0IcjylH7liqpzW8OM5sohNSdl9MsVnjeok'\n",
    "\n",
    "auth = tweepy.OAuthHandler(consumer_key, consumer_secret)\n",
    "auth.set_access_token(access_token, access_token_secret)\n",
    "\n",
    "api = tweepy.API(auth)"
   ]
  },
  {
   "cell_type": "markdown",
   "metadata": {},
   "source": [
    "<a id=\"def\"></a>\n",
    "### Definição de parâmetros de pesquisa"
   ]
  },
  {
   "cell_type": "code",
   "execution_count": null,
   "metadata": {},
   "outputs": [],
   "source": [
    "query = '#pca'\n",
    "max_tweets = 100\n",
    "lang = 'en'\n"
   ]
  },
  {
   "cell_type": "markdown",
   "metadata": {},
   "source": [
    "<a id=\"search\"></a>\n",
    "### Efectuar pesquisa\n",
    "\n",
    "Devido a limites nas pesquisas vamos usar um mecanismo para obter os twetts em parcelas até termos o total definido:"
   ]
  },
  {
   "cell_type": "code",
   "execution_count": null,
   "metadata": {},
   "outputs": [],
   "source": [
    "public_tweets = []\n",
    "last_id = -1\n",
    "while len(public_tweets) < max_tweets:\n",
    "    count = max_tweets - len(public_tweets)\n",
    "    try:\n",
    "        new_tweets = api.search(q=query, count=count, max_id=str(last_id - 1), lang='en')\n",
    "        if not new_tweets:\n",
    "            break\n",
    "        public_tweets.extend(new_tweets)\n",
    "        last_id = new_tweets[-1].id\n",
    "    except tweepy.TweepError as e:\n",
    "        # depending on TweepError.code, one may want to retry or wait\n",
    "        # to keep things simple, we will give up on an error\n",
    "        break"
   ]
  },
  {
   "cell_type": "markdown",
   "metadata": {},
   "source": [
    "<a id=\"resi\"></a>\n",
    "### Resultados Individuais\n",
    "\n",
    "Agora vamos excluir dos tweets obtidos todos aqueles que são retweets e hyperlinks do conteúdo dos que sobram. Seguidamente imprimimos os tweets, a análise sentimental e respectivo emoticon."
   ]
  },
  {
   "cell_type": "code",
   "execution_count": null,
   "metadata": {},
   "outputs": [],
   "source": [
    "count=0\n",
    "totalPol=0\n",
    "totalSub=0\n",
    "\n",
    "for tweet in public_tweets:\n",
    "    # Excluir retweets\n",
    "    if (not tweet.retweeted) and ('RT @' not in tweet.text):\n",
    "        # Remover Sites dos Tweets\n",
    "        text = re.sub(r'http\\S+', '', tweet.text, flags=re.MULTILINE)\n",
    "        print(str(count+1)+'/'+str(len(public_tweets)))\n",
    "        print(text)\n",
    "\n",
    "        #Executar Analise Sentimental no Tweet\n",
    "        analysis = TextBlob(text)\n",
    "\n",
    "        #Auxiliares para Resultados Totais\n",
    "        count +=1\n",
    "        totalPol += analysis.sentiment.polarity\n",
    "        totalSub += analysis.sentiment.subjectivity\n",
    "\n",
    "        print(analysis.sentiment)\n",
    "        print(\"\")\n",
    "        plt.figure(figsize=(1,1))\n",
    "        # plot emoticon\n",
    "        if analysis.sentiment.polarity > 0.6:\n",
    "            img=mpimg.imread('../_images/awesome.jpg')\n",
    "            imgplot = plt.imshow(img)\n",
    "            plt.show()\n",
    "        if 0.20 <= analysis.sentiment.polarity <= 0.6:\n",
    "            img=mpimg.imread('../_images/good.jpg')\n",
    "            imgplot = plt.imshow(img)\n",
    "            plt.show()\n",
    "        if -0.20 < analysis.sentiment.polarity < 0.2:\n",
    "            img=mpimg.imread('../_images/neutral.jpg')\n",
    "            imgplot = plt.imshow(img)\n",
    "            plt.show()\n",
    "        if -0.60 <= analysis.sentiment.polarity <= -0.2:\n",
    "            img=mpimg.imread('../_images/bad.jpg')\n",
    "            imgplot = plt.imshow(img)\n",
    "            plt.show()\n",
    "        if analysis.sentiment.polarity < -0.6:\n",
    "            img=mpimg.imread('../_images/horrible.jpg')\n",
    "            imgplot = plt.imshow(img)\n",
    "            plt.show()\n",
    "\n",
    "        "
   ]
  },
  {
   "cell_type": "markdown",
   "metadata": {},
   "source": [
    "<a id=\"rest\"></a>\n",
    "### Resultados Totais\n",
    "\n",
    "Fazendo uma simples média aritmética tentamos estimar de forma rude o sentimento geral sobre o alvo da nossa pesquisa:"
   ]
  },
  {
   "cell_type": "code",
   "execution_count": null,
   "metadata": {},
   "outputs": [],
   "source": [
    "polaridadeTotal = (totalPol/count)\n",
    "subjetividadeTotal = (totalSub/count)\n",
    "\n",
    "print(\"Polaridade: \"+\"{:.2}\".format(polaridadeTotal));\n",
    "print(\"Subjetividade : \"+\"{:.2}\".format(subjetividadeTotal ));\n",
    "\n",
    "if polaridadeTotal > 0.6:\n",
    "    img=mpimg.imread('../_images/awesome.jpg')\n",
    "    imgplot = plt.imshow(img)\n",
    "    plt.show()\n",
    "if 0.20 <= polaridadeTotal <= 0.6:\n",
    "    img=mpimg.imread('../_images/good.jpg')\n",
    "    imgplot = plt.imshow(img)\n",
    "    plt.show()\n",
    "if -0.20 < polaridadeTotal < 0.2:\n",
    "    img=mpimg.imread('../_images/neutral.jpg')\n",
    "    imgplot = plt.imshow(img)\n",
    "    plt.show()\n",
    "if -0.60 <= polaridadeTotal <= -0.2:\n",
    "    img=mpimg.imread('../_images/bad.jpg')\n",
    "    imgplot = plt.imshow(img)\n",
    "    plt.show()\n",
    "if polaridadeTotal < -0.6:\n",
    "    img=mpimg.imread('../_images/horrible.jpg')\n",
    "    imgplot = plt.imshow(img)\n",
    "    plt.show()"
   ]
  },
  {
   "cell_type": "markdown",
   "metadata": {},
   "source": [
    "[<div align=\"right\" class=\"alert alert-block\"><img src=\"../_images/top.png\" width=\"20\"></div>](#topo)"
   ]
  },
  {
   "cell_type": "markdown",
   "metadata": {},
   "source": [
    "### Ref.\n",
    "\n",
    "https://youtu.be/o_OZdbCzHUA\n",
    "\n",
    "https://github.com/llSourcell/twitter_sentiment_challenge\n",
    "\n",
    "https://github.com/kalradivyanshu/TwitterSentiment\n",
    "\n",
    "http://docs.tweepy.org/en/v3.5.0/api.html\n"
   ]
  }
 ],
 "metadata": {
  "kernelspec": {
   "display_name": "Python 3",
   "language": "python",
   "name": "python3"
  },
  "language_info": {
   "codemirror_mode": {
    "name": "ipython",
    "version": 3
   },
   "file_extension": ".py",
   "mimetype": "text/x-python",
   "name": "python",
   "nbconvert_exporter": "python",
   "pygments_lexer": "ipython3",
   "version": "3.6.3"
  }
 },
 "nbformat": 4,
 "nbformat_minor": 2
}
