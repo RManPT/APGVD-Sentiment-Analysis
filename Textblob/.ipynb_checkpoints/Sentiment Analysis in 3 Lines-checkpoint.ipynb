{
 "cells": [
  {
   "cell_type": "markdown",
   "metadata": {
    "collapsed": true
   },
   "source": [
    "<a id=\"topo\"></a>\n",
    "___\n",
    "<img src=\"../_images/logo_mei.jpg\" alt=\"Mestrado em Internet das Coisas @ IPT\" width=\"200\"/>\n",
    "<div class=\"alert alert-block alert-success\" align=\"center\">\n",
    "<h1>Análise e Processamento de Grandes Volumes de Dados</h1>\n",
    "<h3>Sentiment analysis - 1ª parte</div>\n",
    "<center><h5>Criado por: Bruno Bernardo / David Carrilho / Rui Rodrigues</h5></center>\n",
    "___\n",
    "\n",
    "[<img src=\"../_images/download.jpg\" alt=\"Mestrado em Internet das Coisas @ IPT\" width=\"50\"/>](Sentiment Analysis in 3 Lines.ipynb)\n",
    "___"
   ]
  },
  {
   "cell_type": "markdown",
   "metadata": {},
   "source": [
    "[Análise Sentimental em 3 Linhas](#3linhas)<br>\n",
    "[Um passo à frente](#umpasso)<br>\n",
    "[Brincadeiras](#brinca)<br>"
   ]
  },
  {
   "cell_type": "markdown",
   "metadata": {},
   "source": [
    "<p>&nbsp;</p>\n",
    "<p>&nbsp;</p>\n",
    "<p>&nbsp;</p>\n",
    "\n",
    "<a id=\"3linhas\"></a>\n",
    "# Análise Sentimental em 3 Linhas\n",
    "<p>&nbsp;</p>\n",
    "\n",
    "Para exemplificar a extracção de informação sentimental de um texto vamos usar uma API de processamento de linguagem natural, [Textblob](http://textblob.readthedocs.io/en/dev/quickstart.html#create-a-textblob).\n",
    "\n",
    "Esta API permite-nos, entre outras:\n",
    "    <ul><li><b>Noun phrase extraction</b></li>\n",
    "            Identificação de entidades e seus modificadores (adjectivos, pronomes, etc). Permite fazer contextualização<br/>\n",
    "    <li><b>Part-of-speech tagging</b></li>\n",
    "    Permite relacionar definição e contexto de cada palavra com as que a rodeiam<br>\n",
    "    <li><b>Tokenization</b></li>\n",
    "    Partição de texto em frases e palavras<br>\n",
    "    <li><b>Word and phrase frequencies</b></li>\n",
    "    Criação de dicionários<br>\n",
    "    <li><b>Word inflection (pluralization and singularization) and lemmatization</b></li>\n",
    "    Permite reduzir o vocabulário de um texto à sua raiz, reduzindo em muitoo tamanho e complexidade de dicionários<br>\n",
    "    <li><b>Classification (Naive Bayes, Decision Tree)</b></li>\n",
    "    Classificaçõa probabilística ou baseada em grafos em que cada nó representa uma decisão e cada folha a probablilidade de um resultado<br>\n",
    "    <li><b>Sentiment analysis</b></li>\n",
    "    Dando uso de todas as anteriores podemos ainda obter informação sobre opiniões<br>\n",
    "</ul>"
   ]
  },
  {
   "cell_type": "markdown",
   "metadata": {},
   "source": [
    "<p></p>"
   ]
  },
  {
   "cell_type": "markdown",
   "metadata": {},
   "source": [
    "## Sentiment analysis - resultados\n",
    "\n",
    "   Tipicamente os resultados são exprimidos com dois indicadores:\n",
    "\n",
    "   <b>Polaridade :</b> [-1 a 1]\n",
    "   Representa a emoção expressada pela frase. De forma simplista, pode ser positiva, negativa ou neutra.\n",
    "    \n",
    "   -1 totalmente negativo / 0 neutro / 1 totalmente positivo\n",
    "\n",
    "   <b>Subjetividade:</b> 0 a 1\n",
    "   O texto por si representa ou não uma opinião/especulação. Tem de ser contextualizado pois pode influenciar a informação. \n",
    "    \n",
    "   0 imparcialidade-objectividade / 1 o autor influencia a extração de informação\n",
    "   "
   ]
  },
  {
   "cell_type": "markdown",
   "metadata": {},
   "source": [
    "\n",
    "------\n"
   ]
  },
  {
   "cell_type": "markdown",
   "metadata": {},
   "source": [
    "## Preparação\n",
    "\n",
    "Se correr o notebook no seu próprio server Jupyter deverá instalar dependências.\n",
    "\n",
    "Na \"Anaconda Comand Prompt\" (na pasta onde tens os notebooks):\n",
    "\n",
    "    pip install tweepy\n",
    "\n",
    "    pip install textblob\n",
    "\n",
    "<div class=\"alert alert-block alert-info\">NOTA: Se não tiveres premissões para instalar, executa o Prompt como Administrador. Se estiveres da drive C: e os notebooks estiverem na D:, assim que abres o Prompt deves escrever D: para mudar de drive.</div>\n",
    "\n",
    "No nosso caso vamos usar um contentor dinâmico que permite a partilha de notebooks com edição, [mybinder.org](https://mybinder.org)."
   ]
  },
  {
   "cell_type": "markdown",
   "metadata": {},
   "source": [
    "<p>&nbsp;</p>"
   ]
  },
  {
   "cell_type": "markdown",
   "metadata": {},
   "source": [
    "### A importação dos módulos necessários"
   ]
  },
  {
   "cell_type": "code",
   "execution_count": null,
   "metadata": {
    "collapsed": true
   },
   "outputs": [],
   "source": [
    "from textblob import TextBlob"
   ]
  },
  {
   "cell_type": "code",
   "execution_count": null,
   "metadata": {
    "collapsed": true
   },
   "outputs": [],
   "source": [
    "import matplotlib.pyplot as plt\n",
    "import matplotlib.image as mpimg"
   ]
  },
  {
   "cell_type": "markdown",
   "metadata": {},
   "source": [
    "### As 3 linhas"
   ]
  },
  {
   "cell_type": "markdown",
   "metadata": {},
   "source": [
    "Análise de uma string:"
   ]
  },
  {
   "cell_type": "code",
   "execution_count": null,
   "metadata": {
    "collapsed": true
   },
   "outputs": [],
   "source": [
    "wiki = TextBlob(\"I love you very much. I am happy.\")"
   ]
  },
  {
   "cell_type": "markdown",
   "metadata": {},
   "source": [
    "Obtenção dos resultados:"
   ]
  },
  {
   "cell_type": "code",
   "execution_count": null,
   "metadata": {
    "collapsed": true
   },
   "outputs": [],
   "source": [
    "polaridade = wiki.sentiment.polarity\n",
    "subjetividade  = wiki.sentiment.subjectivity"
   ]
  },
  {
   "cell_type": "markdown",
   "metadata": {},
   "source": [
    "Formatação e plot:"
   ]
  },
  {
   "cell_type": "code",
   "execution_count": null,
   "metadata": {
    "collapsed": true
   },
   "outputs": [],
   "source": [
    "print(\"Polaridade: \"+\"{:.2}\".format(polaridade));\n",
    "print(\"Subjetividade : \"+\"{:.2}\".format(subjetividade ));"
   ]
  },
  {
   "cell_type": "markdown",
   "metadata": {},
   "source": [
    "Interpretação visual da polaridade:"
   ]
  },
  {
   "cell_type": "code",
   "execution_count": null,
   "metadata": {
    "collapsed": true
   },
   "outputs": [],
   "source": [
    "if polaridade > 0.33:\n",
    "    img=mpimg.imread('../_images/pos.jpg')\n",
    "    imgplot = plt.imshow(img)\n",
    "    plt.show()\n",
    "if -0.33 <= polaridade <= 0.33:\n",
    "    img=mpimg.imread('../_images/neu.jpg')\n",
    "    imgplot = plt.imshow(img)\n",
    "    plt.show()\n",
    "if polaridade < -0.33:\n",
    "    img=mpimg.imread('../_images/neg.jpg')\n",
    "    imgplot = plt.imshow(img)\n",
    "    plt.show()"
   ]
  },
  {
   "cell_type": "markdown",
   "metadata": {},
   "source": [
    "<p>&nbsp;</p>\n",
    "<a id=\"umpasso\"></a>\n",
    "# Um passo à frente "
   ]
  },
  {
   "cell_type": "markdown",
   "metadata": {},
   "source": [
    "### Usar um ficheiro de texto como fonte de dados...\n"
   ]
  },
  {
   "cell_type": "markdown",
   "metadata": {},
   "source": [
    "<small>Ficheiros:\n",
    "\n",
    "data1.txt : Primeiro Livro da Biblia<br>\n",
    "data2.txt : Declaração da Independecia dos Estados Unidos da América<br>\n",
    "data3.txt : Discurso de Trump na ONU 2017<br>\n",
    "data4.txt : Carta de amor<br>\n",
    "data5.txt : Discurso Oprah</small>\n"
   ]
  },
  {
   "cell_type": "markdown",
   "metadata": {},
   "source": [
    "<p>&nbsp;</p>"
   ]
  },
  {
   "cell_type": "markdown",
   "metadata": {},
   "source": [
    "Conectar ao ficheiro:"
   ]
  },
  {
   "cell_type": "code",
   "execution_count": null,
   "metadata": {
    "collapsed": true
   },
   "outputs": [],
   "source": [
    "with open('data5.txt','r', encoding = \"ISO-8859-1\") as myfile:\n",
    "    data=myfile.read().replace('\\n', '')"
   ]
  },
  {
   "cell_type": "markdown",
   "metadata": {},
   "source": [
    "Extrair dados:"
   ]
  },
  {
   "cell_type": "code",
   "execution_count": null,
   "metadata": {
    "collapsed": true
   },
   "outputs": [],
   "source": [
    "wiki = TextBlob(data)"
   ]
  },
  {
   "cell_type": "markdown",
   "metadata": {},
   "source": [
    "Obtenção de resultados:"
   ]
  },
  {
   "cell_type": "code",
   "execution_count": null,
   "metadata": {
    "collapsed": true
   },
   "outputs": [],
   "source": [
    "polaridade = wiki.sentiment.polarity\n",
    "subjetividade  = wiki.sentiment.subjectivity"
   ]
  },
  {
   "cell_type": "markdown",
   "metadata": {},
   "source": [
    "Formatação e plot:"
   ]
  },
  {
   "cell_type": "code",
   "execution_count": null,
   "metadata": {
    "collapsed": true
   },
   "outputs": [],
   "source": [
    "print(\"Polaridade: \"+\"{:.2}\".format(polaridade));\n",
    "print(\"Subjetividade : \"+\"{:.2}\".format(subjetividade ));"
   ]
  },
  {
   "cell_type": "markdown",
   "metadata": {
    "collapsed": true
   },
   "source": [
    "<p>&nbsp;</p>"
   ]
  },
  {
   "cell_type": "markdown",
   "metadata": {
    "collapsed": true
   },
   "source": [
    "<a id=\"brinca\"></a>\n",
    "# Brincadeiras"
   ]
  },
  {
   "cell_type": "markdown",
   "metadata": {},
   "source": [
    "Como influenciar resultados:"
   ]
  },
  {
   "cell_type": "code",
   "execution_count": null,
   "metadata": {
    "collapsed": true
   },
   "outputs": [],
   "source": [
    "wiki = TextBlob(\"I hate\")\n",
    "#wiki = TextBlob(\"I hate when bad thing happen\")\n",
    "#####################################################\n",
    "#wiki = TextBlob(\"I hate dogs\")\n",
    "#wiki = TextBlob(\"I hate bad dogs\")\n",
    "#wiki = TextBlob(\"I hate bad angry dogs\")\n",
    "#####################################################\n",
    "#wiki = TextBlob(\"I blipKING HATE YOU LITTLE blIT\")"
   ]
  },
  {
   "cell_type": "markdown",
   "metadata": {},
   "source": [
    "Mais do mesmo:"
   ]
  },
  {
   "cell_type": "code",
   "execution_count": null,
   "metadata": {
    "collapsed": true
   },
   "outputs": [],
   "source": [
    "polaridade = wiki.sentiment.polarity\n",
    "subjetividade  = wiki.sentiment.subjectivity\n",
    "\n",
    "print(\"Polaridade: \"+\"{:.2}\".format(polaridade));\n",
    "print(\"Subjetividade : \"+\"{:.2}\".format(subjetividade ));"
   ]
  },
  {
   "cell_type": "markdown",
   "metadata": {},
   "source": [
    "Interpretação visual mais detalhada:"
   ]
  },
  {
   "cell_type": "code",
   "execution_count": null,
   "metadata": {},
   "outputs": [],
   "source": [
    "if polaridade > 0.6:\n",
    "    img=mpimg.imread('../_images/awesome.jpg')\n",
    "    imgplot = plt.imshow(img)\n",
    "    plt.show()\n",
    "if 0.20 <= polaridade <= 0.6:\n",
    "    img=mpimg.imread('../_images/good.jpg')\n",
    "    imgplot = plt.imshow(img)\n",
    "    plt.show()\n",
    "if -0.20 < polaridade < 0.2:\n",
    "    img=mpimg.imread('../_images/neutral.jpg')\n",
    "    imgplot = plt.imshow(img)\n",
    "    plt.show()\n",
    "if -0.60 <= polaridade <= -0.2:\n",
    "    img=mpimg.imread('../_images/bad.jpg')\n",
    "    imgplot = plt.imshow(img)\n",
    "    plt.show()\n",
    "if polaridade < -0.6:\n",
    "    img=mpimg.imread('../_images/horrible.jpg')\n",
    "    imgplot = plt.imshow(img)\n",
    "    plt.show()"
   ]
  },
  {
   "cell_type": "markdown",
   "metadata": {},
   "source": [
    "[<div align=\"right\" class=\"alert alert-block\"><img src=\"../_images/top.png\" width=\"20\"></div>](#topo)"
   ]
  }
 ],
 "metadata": {
  "kernelspec": {
   "display_name": "Python 3",
   "language": "python",
   "name": "python3"
  },
  "language_info": {
   "codemirror_mode": {
    "name": "ipython",
    "version": 3
   },
   "file_extension": ".py",
   "mimetype": "text/x-python",
   "name": "python",
   "nbconvert_exporter": "python",
   "pygments_lexer": "ipython3",
   "version": "3.6.3"
  }
 },
 "nbformat": 4,
 "nbformat_minor": 2
}
